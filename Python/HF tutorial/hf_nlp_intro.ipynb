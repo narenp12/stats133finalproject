version https://git-lfs.github.com/spec/v1
oid sha256:561a24d71b7626c09a0d64def9a89b18ed17728f4699df68acf7fe1a10f7c026
size 3731297
